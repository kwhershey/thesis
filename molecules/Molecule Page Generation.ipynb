{
 "cells": [
  {
   "cell_type": "code",
   "execution_count": 1,
   "metadata": {},
   "outputs": [
    {
     "data": {
      "text/plain": [
       "True"
      ]
     },
     "execution_count": 1,
     "metadata": {},
     "output_type": "execute_result"
    }
   ],
   "source": [
    "import glob\n",
    "from pymongo import MongoClient\n",
    "c=MongoClient('holmes-carl.cems.umn.edu',27017)\n",
    "db=c.oleds\n",
    "db.authenticate('lifetime','Ir(ppy)3')"
   ]
  },
  {
   "cell_type": "code",
   "execution_count": 2,
   "metadata": {
    "collapsed": true
   },
   "outputs": [],
   "source": [
    "mols=glob.glob('*.png')"
   ]
  },
  {
   "cell_type": "code",
   "execution_count": 4,
   "metadata": {
    "collapsed": true
   },
   "outputs": [],
   "source": [
    "f = open('structures.tex','w',encoding='utf-8') \n",
    "f.write('\\\\documentclass[../thesis.tex]{subfiles}\\n') \n",
    "f.write('\\\\newcommand{\\\\subf}[2]{%\\n')\n",
    "f.write('  {\\\\small\\\\begin{tabular}[t]{@{}m{.3\\\\textwidth}@{}}\\n')\n",
    "f.write('  #1\\\\\\\\ \\\\centering #2\\n')\n",
    "f.write(  '\\\\end{tabular}}%\\n')\n",
    "f.write('}')\n",
    "\n",
    "f.write('\\\\begin{document}\\n') \n",
    "f.write('\\\\chapter{Chemical Structures}\\\\label{sec:structures}\\n')\n",
    "f.write('\\\\begin{longtable}{c c c}\\n')\n",
    "\n",
    "col=0\n",
    "for mol in mols:\n",
    "    molName=mol.split('.')[0]\n",
    "    m=db.materials.find_one({'commonName':molName})\n",
    "    molFormattedName=m['formattedName']\n",
    "    molChemName=m['chemicalName'] \n",
    "    f.write('\\\\subf{\\\\includegraphics[width=.3\\\\textwidth]{'+molName+'}}\\n')\n",
    "    #f.write('  {'+molFormattedName+'\\\\\\\\\\\\scriptsize '+molChemName+'\\\\small}\\n')\n",
    "    f.write('  {'+molFormattedName+'}\\n')\n",
    "    if col==2:\n",
    "        f.write('\\\\\\\\')\n",
    "        col=0\n",
    "    else:\n",
    "        f.write(' & ')\n",
    "        col+=1\n",
    "    \n",
    "f.write('\\\\end{longtable}')\n",
    "f.write('\\\\end{document}')\n",
    "f.close()"
   ]
  },
  {
   "cell_type": "code",
   "execution_count": null,
   "metadata": {
    "collapsed": true
   },
   "outputs": [],
   "source": []
  }
 ],
 "metadata": {
  "kernelspec": {
   "display_name": "Python 3",
   "language": "python",
   "name": "python3"
  },
  "language_info": {
   "codemirror_mode": {
    "name": "ipython",
    "version": 3
   },
   "file_extension": ".py",
   "mimetype": "text/x-python",
   "name": "python",
   "nbconvert_exporter": "python",
   "pygments_lexer": "ipython3",
   "version": "3.6.3"
  }
 },
 "nbformat": 4,
 "nbformat_minor": 2
}
