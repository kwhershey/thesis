{
 "cells": [
  {
   "cell_type": "code",
   "execution_count": 1,
   "metadata": {},
   "outputs": [
    {
     "data": {
      "text/plain": [
       "True"
      ]
     },
     "execution_count": 1,
     "metadata": {},
     "output_type": "execute_result"
    }
   ],
   "source": [
    "from pymongo import MongoClient\n",
    "c=MongoClient('holmes-carl.cems.umn.edu',27017)\n",
    "db=c.oleds\n",
    "db.authenticate('lifetime','Ir(ppy)3')"
   ]
  },
  {
   "cell_type": "code",
   "execution_count": 63,
   "metadata": {
    "collapsed": true
   },
   "outputs": [],
   "source": [
    "mats=db.materials.find({}).sort('commonName')\n",
    "f = open('materials.tex','w',encoding='utf-8') \n",
    "f.write('\\\\documentclass[../the]{subfiles}\\n') \n",
    "f.write('\\\\usepackage{longtable}\\n')\n",
    "f.write('\\\\usepackage{lscape}\\n')\n",
    "f.write('\\\\begin{document}\\n')  \n",
    "f.write('\\\\small\\n')  \n",
    "f.write('\\\\begin{landscape}\\n')\n",
    "f.write('\\\\begin{longtable}{| p{.18\\\\textwidth} | p{.2\\\\textwidth} | p{.2\\\\textwidth} | p{.08\\\\textwidth} | p{.08\\\\textwidth} | p{.05\\\\textwidth} | p{.1\\\\textwidth} | p{.05\\\\textwidth} | p{.05\\\\textwidth} | p{.05\\\\textwidth} | }\\n')\n",
    "f.write('\\n \\hline \\n')\n",
    "f.write('\\\\textbf{Common Name} & \\\\textbf{Chemical Name} & \\\\textbf{Other Names} & \\\\textbf{HOMO} & \\\\textbf{LUMO} & E$_T$ & \\\\textbf{CAS} & $T_{melt}$ & \\\\textbf{M.W.} & $\\\\tau$ \\\\\\\\')\n",
    "f.write('\\n \\hline \\n')\n",
    "f.write('\\\\endhead')\n",
    "for m in mats:\n",
    "    #print(m['formattedName'].replace(\"_\",\"\\_\"))\n",
    "    f.write(m['formattedName'].replace(\"_\",\"\\_\") + ' & ')\n",
    "    if 'chemicalName' in m:\n",
    "    #if 0:\n",
    "        f.write(str(m['chemicalName']) +  ' & ')\n",
    "    else: f.write(' & ')\n",
    "        \n",
    "    # establish lists\n",
    "    if 'allNames' in m:\n",
    "        names=m['allNames']\n",
    "        names=[n for n in names if ('chemicalName' in m and not n==m['chemicalName']) and (not n==m['formattedName'])]\n",
    "    else: names=[]\n",
    "    if 'HOMO_list' in m:\n",
    "        homos=m['HOMO_list']\n",
    "    else: homos=[]\n",
    "    if 'LUMO_list' in m:\n",
    "        lumos=m['LUMO_list']\n",
    "    else: homos=[]\n",
    "    if 'E_t_list' in m:\n",
    "        ets=m['E_t_list']\n",
    "    else: ets=[]\n",
    "\n",
    "    \n",
    "    lists=False\n",
    "    if not names==[]:\n",
    "        lists=True\n",
    "        f.write(str(names.pop()).replace(\"_\",\"\\_\") + ' & ')\n",
    "    else: f.write(' & ')\n",
    "    if not homos==[]:\n",
    "        lists=True\n",
    "        f.write(str(homos.pop()['value']) + ' & ')\n",
    "    else: f.write(' & ')\n",
    "    if not lumos==[]:\n",
    "        lists=True\n",
    "        f.write(str(lumos.pop()['value']) + ' & ')\n",
    "    else: f.write(' & ')\n",
    "    if not ets==[]:\n",
    "        lists=True\n",
    "        f.write(str(ets.pop()['value']) + ' & ')\n",
    "    else: f.write(' & ')\n",
    "    \n",
    "    \n",
    "    if 'CAS' in m:\n",
    "        f.write(str(m['CAS']) + ' & ')\n",
    "    else: f.write(' & ')\n",
    "    if 'meltingTemp' in m:\n",
    "        f.write(str(m['meltingTemp']) + ' & ')\n",
    "    else: f.write(' & ')\n",
    "    if 'molecularWeight' in m:\n",
    "        f.write(str(m['molecularWeight']) + ' & ')\n",
    "    else: f.write(' & ')\n",
    "    if 'tau' in m:\n",
    "        f.write(str(m['tau']) )\n",
    "    f.write(' \\\\\\\\ \\n ')\n",
    "    \n",
    "    while lists:\n",
    "        lists=False\n",
    "        s=''\n",
    "        s=s+'& & '\n",
    "        if not names==[]:\n",
    "            lists=True\n",
    "            s=s+str(names.pop()) + ' & '\n",
    "        else: s=s+' & '\n",
    "        if not homos==[]:\n",
    "            lists=True\n",
    "            s=s+str(homos.pop()['value']) + ' & '\n",
    "        else: s=s+' & '\n",
    "        if not lumos==[]:\n",
    "            lists=True\n",
    "            s=s+str(lumos.pop()['value']) + ' & '\n",
    "        else: s=s+' & '\n",
    "        if not ets==[]:\n",
    "            lists=True\n",
    "            s=s+str(ets.pop()['value']) + ' & '\n",
    "        else: s=s+' & '\n",
    "        s=s+' & & & \\\\\\\\ \\n '\n",
    "        sc=s\n",
    "        if not sc.replace(\" \",\"\")=='&&&&&&&&&\\\\\\\\\\n':\n",
    "            f.write(s)\n",
    "    f.write('\\n \\hline \\n')\n",
    "f.write('\\\\end{longtable}')\n",
    "f.write('\\\\end{landscape}')\n",
    "f.write('\\\\normalsize\\n')\n",
    "f.write('\\\\end{document}')\n",
    "f.close()"
   ]
  },
  {
   "cell_type": "code",
   "execution_count": 44,
   "metadata": {
    "collapsed": true
   },
   "outputs": [],
   "source": [
    "s='dow_a'"
   ]
  },
  {
   "cell_type": "code",
   "execution_count": 46,
   "metadata": {},
   "outputs": [
    {
     "data": {
      "text/plain": [
       "'dow\\\\_a'"
      ]
     },
     "execution_count": 46,
     "metadata": {},
     "output_type": "execute_result"
    }
   ],
   "source": [
    "s.replace(\"_\",\"\\_\")"
   ]
  },
  {
   "cell_type": "code",
   "execution_count": null,
   "metadata": {
    "collapsed": true
   },
   "outputs": [],
   "source": []
  }
 ],
 "metadata": {
  "kernelspec": {
   "display_name": "Python 3",
   "language": "python",
   "name": "python3"
  },
  "language_info": {
   "codemirror_mode": {
    "name": "ipython",
    "version": 3
   },
   "file_extension": ".py",
   "mimetype": "text/x-python",
   "name": "python",
   "nbconvert_exporter": "python",
   "pygments_lexer": "ipython3",
   "version": "3.6.3"
  }
 },
 "nbformat": 4,
 "nbformat_minor": 2
}
