{
 "cells": [
  {
   "cell_type": "code",
   "execution_count": 1,
   "metadata": {},
   "outputs": [
    {
     "data": {
      "text/plain": [
       "True"
      ]
     },
     "execution_count": 1,
     "metadata": {},
     "output_type": "execute_result"
    }
   ],
   "source": [
    "from pymongo import MongoClient\n",
    "c=MongoClient('holmes-carl.cems.umn.edu',27017)\n",
    "db=c.oleds\n",
    "db.authenticate('lifetime','Ir(ppy)3')"
   ]
  },
  {
   "cell_type": "code",
   "execution_count": 3,
   "metadata": {
    "collapsed": true
   },
   "outputs": [],
   "source": [
    "mats=db.materials.find({}).sort('commonName')\n",
    "f = open('matNames.tex','w',encoding='utf-8') \n",
    "#f.write('\\\\documentclass[../thesis.tex]{subfiles}\\n') \n",
    "#f.write('\\\\begin{document}\\n') \n",
    "#f.write('\\\\chapter{Material Properties}')\n",
    "#f.write('\\\\small\\n')  \n",
    "#f.write('\\\\begin{landscape}\\n')\n",
    "#f.write('\\\\begin{longtable}{| p{.18\\\\textwidth} | p{.2\\\\textwidth} | p{.2\\\\textwidth} | p{.08\\\\textwidth} | p{.08\\\\textwidth} | p{.05\\\\textwidth} | p{.1\\\\textwidth} | p{.05\\\\textwidth} | p{.05\\\\textwidth} | p{.05\\\\textwidth} | }\\n')\n",
    "#f.write('\\n \\hline \\n')\n",
    "#f.write('\\\\textbf{Common Name} & \\\\textbf{Chemical Name} & \\\\textbf{Other Names} & \\\\textbf{HOMO} & \\\\textbf{LUMO} & E$_T$ & \\\\textbf{CAS} & $T_{melt}$ & \\\\textbf{M.W.} & $\\\\tau$ \\\\\\\\')\n",
    "#f.write('\\n \\hline \\n')\n",
    "#f.write('\\\\endhead')\n",
    "for m in mats:\n",
    "    #print(m['formattedName'].replace(\"_\",\"\\_\"))\n",
    "    if 'formattedName' in m:\n",
    "        f.write(m['formattedName'].replace(\"_\",\"\\_\") + ' & ')\n",
    "    if 'chemicalName' in m:\n",
    "    #if 0:\n",
    "        f.write(str(m['chemicalName'].encode('ascii','ignore')) +  ' \\\\\\\\\\n ')\n",
    "    \n",
    "\n",
    "f.close()"
   ]
  },
  {
   "cell_type": "code",
   "execution_count": 44,
   "metadata": {
    "collapsed": true
   },
   "outputs": [],
   "source": [
    "s='dow_a'"
   ]
  },
  {
   "cell_type": "code",
   "execution_count": 46,
   "metadata": {},
   "outputs": [
    {
     "data": {
      "text/plain": [
       "'dow\\\\_a'"
      ]
     },
     "execution_count": 46,
     "metadata": {},
     "output_type": "execute_result"
    }
   ],
   "source": [
    "s.replace(\"_\",\"\\_\")"
   ]
  },
  {
   "cell_type": "code",
   "execution_count": null,
   "metadata": {
    "collapsed": true
   },
   "outputs": [],
   "source": []
  }
 ],
 "metadata": {
  "kernelspec": {
   "display_name": "Python 3",
   "language": "python",
   "name": "python3"
  },
  "language_info": {
   "codemirror_mode": {
    "name": "ipython",
    "version": 3
   },
   "file_extension": ".py",
   "mimetype": "text/x-python",
   "name": "python",
   "nbconvert_exporter": "python",
   "pygments_lexer": "ipython3",
   "version": "3.6.5"
  }
 },
 "nbformat": 4,
 "nbformat_minor": 2
}
